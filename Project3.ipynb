{
 "cells": [
  {
   "cell_type": "markdown",
   "metadata": {},
   "source": [
    "<h1> Project 3: Dynamic Programming </h1>"
   ]
  },
  {
   "cell_type": "markdown",
   "metadata": {},
   "source": [
    "We have a knapsack of capacity weight C (a positive integer) and n types of objects. \n",
    "Each  object  of  the  ith  type  has  weight  w<sub>i</sub>  and  profit  p<sub>i</sub>  (all  w<sub>i</sub>  and  all  p<sub>i</sub>  are  positive   integers, i = 0, 1, ..., n-1). There are unlimited supplies of each type of objects.  Find  the largest total profit of any set of the objects that fits in the knapsack. Let P(C) be the maximum profit that can be made by packing objects into the knapsack of capacity C. \n"
   ]
  },
  {
   "cell_type": "markdown",
   "metadata": {},
   "source": [
    "### <b> (1) Give a recursive definition of the function P(C). </b>"
   ]
  },
  {
   "cell_type": "markdown",
   "metadata": {},
   "source": [
    "Given:\n",
    "- C is the capacity of the knapsack.\n",
    "- n is the number of different types of items.\n",
    "- w<sub>i</sub> and p<sub>i</sub> are the weight and profit of items of type i, respectively, where (i = 0, 1, ..., n-1).\n",
    "\n",
    "### Recursive Definition\n",
    "\n",
    "The function P(C) can be defined recursively as follows:\n",
    "$$\n",
    "P(C) = \\max\\limits_{0 \\leq i < n}(P(C - w_i) + p_i) \\quad \\text{for} \\; C > 0\n",
    "$$\n",
    "\n",
    "With the base case being:\n",
    "$$\n",
    "P(0) = 0\n",
    "$$\n",
    "### Explanation\n",
    "\n",
    "- **Base Case**: When the capacity of the knapsack C = 0, the maximum profit P(0) = 0 because no items can be added to the knapsack.\n",
    "  \n",
    "- **Recursive Step**: For a knapsack with capacity C > 0, the maximum profit P(C) can be found by considering all items i from 0 to n-1. For each item i, if the item can fit into the knapsack (i.e., w<sub>i</sub> &le; C), we consider either including item i or not. Including item i yields a profit of p<sub>i</sub> plus the maximum profit of a knapsack with reduced capacity C - w<sub>i</sub> (since including the item consumes w<sub>i</sub> units of the capacity). We choose the item i that maximizes this sum.\n",
    "\n",
    "This recursive formula captures the essence of dynamic programming by breaking down the problem into smaller subproblems (i.e., finding the maximum profit for smaller capacities of the knapsack). However, solving this recursively would be inefficient due to overlapping subproblems and recomputation. This is typically resolved by memoization or converting the recursive formula into an iterative solution using dynamic programming, where results of subproblems are stored and reused."
   ]
  },
  {
   "cell_type": "markdown",
   "metadata": {},
   "source": [
    "### <b> (2) Draw the subproblem graph for P(14) where n is 3 with the weights and profits given below. </b>"
   ]
  },
  {
   "cell_type": "markdown",
   "metadata": {},
   "source": [
    "idk is this accurate or not\n",
    "\n",
    "<img src=\"https://files.codingninjas.in/article_images/unbounded-knapsack-1-1649511299.jpg\" width=\"700\" alt=\"Unbounded Knapsack\">\n",
    "\n",
    "Sample:\n",
    "https://www.naukri.com/code360/library/unbounded-knapsack"
   ]
  },
  {
   "cell_type": "markdown",
   "metadata": {},
   "source": [
    "### <b> (3) Give a dynamic programming algorithm to compute the maximum profit, given a knapsack of capacity C, n types of objects with weights w<sub>i</sub> and profits p<sub>i</sub> using the bottom up approach. </b> ###"
   ]
  },
  {
   "cell_type": "markdown",
   "metadata": {},
   "source": [
    "To compute the maximum profit using a bottom-up dynamic programming approach for the Unbounded Knapsack problem, we iteratively build up a solution for increasing capacities of the knapsack, from 0 up to C. This way, each smaller subproblem is solved first, and its solution is used to solve larger subproblems.\n",
    "\n",
    "#### Algorithm Steps\n",
    "\n",
    "1. **Initialization**: Create an array `knapsack` of size C + 1 to store the maximum profit for capacities 0 to C. Initialize all elements of `knapsack` to 0, since the maximum profit for a knapsack of capacity \\(0\\) is \\(0\\).\n",
    "\n",
    "2. **Iterate Over Capacities**: For each capacity c from 1 to C, compute the maximum profit in step 3.\n",
    "\n",
    "3. **Compute Maximum Profit for Each Capacity**: For each item i from 0 to n-1, check if the item can fit into the knapsack of current capacity c (i.e., w<sub>i</sub> &le; c). If it can, calculate the profit of including this item, which is p<sub>i</sub> + knapsack[c - w<sub>i</sub>] (the profit of the item plus the maximum profit for the remaining capacity). Update `knapsack[c]` to the maximum of its current value and this new profit.\n",
    "\n",
    "4. **Result**: After filling the `dp` array, the maximum profit for the knapsack of capacity \\(C\\) will be stored in `dp[C]`.\n",
    "\n",
    "#### Parameters\n",
    "\n",
    "- `C`: The total weight capacity of the knapsack.\n",
    "- `weights`: An array where `weights[i]` is the weight of the i<sup>th</sup> item.\n",
    "- `profits`: An array where `profits[i]` is the profit of the i<sup>th</sup> item.\n",
    "- `n`: The number of types of items.\n",
    "\n",
    "#### Pseudocode\n",
    "\n",
    "```plaintext\n",
    "function unboundedKnapsack(C, weights, profits, n):\n",
    "    knapsack = array of size C + 1, initialized to 0\n",
    "\n",
    "    for c from 1 to C:\n",
    "        for i from 0 to n-1:\n",
    "            if weights[i] <= c:\n",
    "                knapsack[c] = max(knapsack[c], profits[i] + knapsack[c - weights[i]])\n",
    "    \n",
    "    return knapsack[C]\n",
    "```"
   ]
  },
  {
   "cell_type": "markdown",
   "metadata": {},
   "source": [
    "#### Explanation\n",
    "\n",
    "- The `knapsack` array holds the solution to subproblems. `knapsack[c]` represents the maximum profit that can be achieved with a knapsack of capacity c.\n",
    "- For each capacity c, we explore adding each item i to the knapsack (if it fits). The possibility of adding an item multiple times is implicitly considered by updating `knapsack[c]` based on previously computed values in `knapsack`, allowing the reuse of items.\n",
    "- By iteratively updating the `knapsack` array for all capacities and considering all items for each capacity, we ensure that all combinations are explored, adhering to the bottom-up dynamic programming strategy.\n",
    "- The algorithm efficiently computes the maximum profit by building upon solutions to smaller subproblems, avoiding the redundancy of the naive recursive approach."
   ]
  },
  {
   "cell_type": "markdown",
   "metadata": {},
   "source": [
    "### <b> (4) Code your algorithm in a programming language </b>\n",
    "\n",
    "<h4> a. show the running result of P(14) with weights and profits given in (2). </h4>\n",
    "\n",
    "<h4> b. Show the running result of P(14) with weights and profits given below.  </h4>"
   ]
  },
  {
   "cell_type": "code",
   "execution_count": 67,
   "metadata": {},
   "outputs": [
    {
     "name": "stdout",
     "output_type": "stream",
     "text": [
      "(Part A) The maximum profit is:  21\n",
      "(Part B) The maximum profit is:  16\n"
     ]
    }
   ],
   "source": [
    "# Unbounded Knapsack\n",
    "# Bottom up approach means iterative.\n",
    "def unboundedKnapsack(capacity, table):\n",
    "    if (capacity == 0):\n",
    "        return 0\n",
    "    \n",
    "    n = len(table[0])\n",
    "    weights = table[0]\n",
    "    profits = table[1]\n",
    "    knapsack = [0 for _ in range(capacity + 1)]\n",
    "    \n",
    "    # Iterate over all capacities from 1 to 'capacity'\n",
    "    for i in range(1, capacity + 1):\n",
    "        # Check each item to see if it can fit in the current capacity 'i'\n",
    "        for j in range(n):\n",
    "            if weights[j] <= i:\n",
    "                knapsack[i] = max(knapsack[i], knapsack[i - weights[j]] + profits[j])\n",
    "\n",
    "    #print(*[knapsack[x] for x in range(n)], sep='\\n')      \n",
    "    \n",
    "    return knapsack[capacity]\n",
    "\n",
    "\n",
    "#capacity = input(\"Enter knapsack weight capacity (C): \")\n",
    "\n",
    "# Part A\n",
    "tableA = [[4, 6, 8], [7, 6, 9]] # [[weights], [profits]]\n",
    "print(\"(Part A) The maximum profit is: \", unboundedKnapsack(14, tableA))\n",
    "\n",
    "# Part B\n",
    "tableB = [[5, 6, 8], [7, 6, 9]] # [[weights], [profits]]\n",
    "print(\"(Part B) The maximum profit is: \", unboundedKnapsack(14, tableB))"
   ]
  },
  {
   "cell_type": "code",
   "execution_count": 66,
   "metadata": {},
   "outputs": [
    {
     "name": "stdout",
     "output_type": "stream",
     "text": [
      "300\n",
      "300\n",
      "(Part A Test) The maximum profit is:  21\n",
      "(Part B Test) The maximum profit is:  16\n"
     ]
    }
   ],
   "source": [
    "# Testing against online algorithm to see if correct\n",
    "def unboundedKnapsack_gfg(W, n, val, wt): \n",
    "    # dp[i] is going to store maximum  \n",
    "    # value with knapsack capacity i. \n",
    "    dp = [0 for i in range(W + 1)] \n",
    "  \n",
    "    ans = 0\n",
    "  \n",
    "    # Fill dp[] using above recursive formula \n",
    "    for i in range(W + 1): \n",
    "        for j in range(n): \n",
    "            if (wt[j] <= i): \n",
    "                dp[i] = max(dp[i], dp[i - wt[j]] + val[j]) \n",
    "  \n",
    "    return dp[W] \n",
    "  \n",
    "# Driver program \n",
    "W = 100\n",
    "val = [10, 30, 20] \n",
    "wt = [5, 10, 15] \n",
    "n = len(val) \n",
    "  \n",
    "print(unboundedKnapsack_gfg(W, n, val, wt)) \n",
    "print(unboundedKnapsack(W, [wt, val]))\n",
    "\n",
    "print(\"(Part A Test) The maximum profit is: \", unboundedKnapsack_gfg(14, len(tableA[0]), tableA[1], tableA[0])) \n",
    "print(\"(Part B Test) The maximum profit is: \", unboundedKnapsack_gfg(14, len(tableB[0]), tableB[1], tableB[0])) "
   ]
  },
  {
   "cell_type": "markdown",
   "metadata": {},
   "source": [
    "##### 0-1 Knapsack"
   ]
  },
  {
   "cell_type": "code",
   "execution_count": 57,
   "metadata": {},
   "outputs": [
    {
     "name": "stdout",
     "output_type": "stream",
     "text": [
      "(Part A) The maximum profit is:  16\n",
      "(Part B) The maximum profit is:  16\n",
      "(Online) Maximum profit is:  113\n",
      "(Self) Maximum profit is:  113\n"
     ]
    }
   ],
   "source": [
    "## 0/1 Knapsack.\n",
    "# Bottom up approach means iterative.\n",
    "def knapsack(capacity, table):\n",
    "    if (capacity == 0):\n",
    "        return 0\n",
    "    \n",
    "    n = len(table[0])\n",
    "    weights = table[0]\n",
    "    profits = table[1]\n",
    "    knapsack = [[0 for _ in range(capacity + 1)] for _ in range(n)] \n",
    "\n",
    "    for i in range(n):\n",
    "        for j in range(capacity + 1):\n",
    "            if (j == 0):\n",
    "                knapsack[i][j] = 0\n",
    "            elif (i == 0 and j >= weights[i]): \n",
    "                knapsack[i][j] = profits[i]\n",
    "            elif (j - weights[i] >= 0):\n",
    "                knapsack[i][j] = max((knapsack[i - 1][j - weights[i]] + profits[i]), knapsack[i - 1][j])\n",
    "            else:\n",
    "                knapsack[i][j] = knapsack[i - 1][j]\n",
    "    \n",
    "    #print(*[knapsack[x] for x in range(n)], sep='\\n')\n",
    "\n",
    "    return knapsack[n - 1][capacity]\n",
    "\n",
    "\n",
    "#capacity = input(\"Enter knapsack weight capacity (C): \")\n",
    "\n",
    "# Part A\n",
    "tableA = [[4, 6, 8], [7, 6, 9]] # [[weights], [profits]]\n",
    "print(\"(Part A) The maximum profit is: \", knapsack(14, tableA))\n",
    "\n",
    "# Part B\n",
    "tableB = [[5, 6, 8], [7, 6, 9]] # [[weights], [profits]]\n",
    "print(\"(Part B) The maximum profit is: \", knapsack(14, tableB))\n",
    "\n",
    "\n",
    "# Verifying if own algorithm is correct\n",
    "def knapSack_gfg(W, wt, val, n):\n",
    "    K = [[0 for x in range(W + 1)] for x in range(n + 1)]\n",
    "\n",
    "    # Build table K[][] in bottom up manner\n",
    "    for i in range(n + 1):\n",
    "        for w in range(W + 1):\n",
    "            if i == 0 or w == 0:\n",
    "                K[i][w] = 0\n",
    "            elif wt[i-1] <= w:\n",
    "                K[i][w] = max(val[i-1]\n",
    "                              + K[i-1][w-wt[i-1]],\n",
    "                              K[i-1][w])\n",
    "            else:\n",
    "                K[i][w] = K[i-1][w]  \n",
    "\n",
    "    #print(*[K[x] for x in range(n)], sep='\\n')\n",
    "\n",
    "    return K[n][W]\n",
    "\n",
    "\n",
    "# Driver code\n",
    "if __name__ == '__main__':\n",
    "    weight = [5, 6, 8, 1, 12]\n",
    "    profit = [7, 6, 9, 3, 100]\n",
    "    W = 23\n",
    "    n = len(profit)\n",
    "    print(\"(Online) Maximum profit is: \", knapSack_gfg(W, weight, profit, n))\n",
    "    \n",
    "\n",
    "    # Test\n",
    "    tableTest = [weight, profit]\n",
    "    print(\"(Self) Maximum profit is: \", knapsack(W, tableTest))\n",
    "\n"
   ]
  }
 ],
 "metadata": {
  "kernelspec": {
   "display_name": "base",
   "language": "python",
   "name": "python3"
  },
  "language_info": {
   "codemirror_mode": {
    "name": "ipython",
    "version": 3
   },
   "file_extension": ".py",
   "mimetype": "text/x-python",
   "name": "python",
   "nbconvert_exporter": "python",
   "pygments_lexer": "ipython3",
   "version": "3.12.2"
  }
 },
 "nbformat": 4,
 "nbformat_minor": 2
}
